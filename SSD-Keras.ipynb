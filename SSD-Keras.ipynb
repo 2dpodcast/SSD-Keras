{
 "cells": [
  {
   "cell_type": "code",
   "execution_count": 2,
   "metadata": {},
   "outputs": [],
   "source": [
    "from keras_vggface.vggface import VGGFace\n",
    "from keras.models import Model, Sequential\n",
    "from keras.layers import Conv2D, BatchNormalization, Activation, MaxPool2D, AveragePooling2D"
   ]
  },
  {
   "cell_type": "code",
   "execution_count": 3,
   "metadata": {},
   "outputs": [],
   "source": [
    "vgg = VGGFace(include_top=False, input_shape=(300, 400, 3))"
   ]
  },
  {
   "cell_type": "code",
   "execution_count": 4,
   "metadata": {},
   "outputs": [],
   "source": [
    "for layer in vgg.layers:\n",
    "    layer.trainable = False"
   ]
  },
  {
   "cell_type": "code",
   "execution_count": 5,
   "metadata": {},
   "outputs": [
    {
     "name": "stdout",
     "output_type": "stream",
     "text": [
      "_________________________________________________________________\n",
      "Layer (type)                 Output Shape              Param #   \n",
      "=================================================================\n",
      "input_1 (InputLayer)         (None, 300, 400, 3)       0         \n",
      "_________________________________________________________________\n",
      "conv1_1 (Conv2D)             (None, 300, 400, 64)      1792      \n",
      "_________________________________________________________________\n",
      "conv1_2 (Conv2D)             (None, 300, 400, 64)      36928     \n",
      "_________________________________________________________________\n",
      "pool1 (MaxPooling2D)         (None, 150, 200, 64)      0         \n",
      "_________________________________________________________________\n",
      "conv2_1 (Conv2D)             (None, 150, 200, 128)     73856     \n",
      "_________________________________________________________________\n",
      "conv2_2 (Conv2D)             (None, 150, 200, 128)     147584    \n",
      "_________________________________________________________________\n",
      "pool2 (MaxPooling2D)         (None, 75, 100, 128)      0         \n",
      "_________________________________________________________________\n",
      "conv3_1 (Conv2D)             (None, 75, 100, 256)      295168    \n",
      "_________________________________________________________________\n",
      "conv3_2 (Conv2D)             (None, 75, 100, 256)      590080    \n",
      "_________________________________________________________________\n",
      "conv3_3 (Conv2D)             (None, 75, 100, 256)      590080    \n",
      "_________________________________________________________________\n",
      "pool3 (MaxPooling2D)         (None, 37, 50, 256)       0         \n",
      "_________________________________________________________________\n",
      "conv4_1 (Conv2D)             (None, 37, 50, 512)       1180160   \n",
      "_________________________________________________________________\n",
      "conv4_2 (Conv2D)             (None, 37, 50, 512)       2359808   \n",
      "_________________________________________________________________\n",
      "conv4_3 (Conv2D)             (None, 37, 50, 512)       2359808   \n",
      "_________________________________________________________________\n",
      "pool4 (MaxPooling2D)         (None, 18, 25, 512)       0         \n",
      "_________________________________________________________________\n",
      "conv5_1 (Conv2D)             (None, 18, 25, 512)       2359808   \n",
      "_________________________________________________________________\n",
      "conv5_2 (Conv2D)             (None, 18, 25, 512)       2359808   \n",
      "_________________________________________________________________\n",
      "conv5_3 (Conv2D)             (None, 18, 25, 512)       2359808   \n",
      "_________________________________________________________________\n",
      "pool5 (MaxPooling2D)         (None, 9, 12, 512)        0         \n",
      "=================================================================\n",
      "Total params: 14,714,688\n",
      "Trainable params: 0\n",
      "Non-trainable params: 14,714,688\n",
      "_________________________________________________________________\n"
     ]
    }
   ],
   "source": [
    "vgg.summary()"
   ]
  },
  {
   "cell_type": "code",
   "execution_count": 6,
   "metadata": {},
   "outputs": [],
   "source": [
    "ssd = Model(inputs = vgg.inputs, outputs = vgg.get_layer(index=13).output)"
   ]
  },
  {
   "cell_type": "code",
   "execution_count": 7,
   "metadata": {},
   "outputs": [],
   "source": [
    "model = Sequential()\n",
    "model.add(ssd)\n",
    "model.add(Conv2D(filters=1024, kernel_size=3, strides=1, padding='same'))\n",
    "model.add(BatchNormalization())\n",
    "model.add(Activation('relu'))\n",
    "model.add(Conv2D(filters=1024, kernel_size=1, strides=1, padding='same'))\n",
    "model.add(BatchNormalization())\n",
    "model.add(Activation('relu'))\n",
    "model.add(MaxPool2D(pool_size=2, strides=2))"
   ]
  },
  {
   "cell_type": "code",
   "execution_count": 8,
   "metadata": {},
   "outputs": [],
   "source": [
    "model.add(Conv2D(filters=256, kernel_size=1, strides=1, padding='same'))\n",
    "model.add(BatchNormalization())\n",
    "model.add(Activation('relu'))\n",
    "model.add(Conv2D(filters=512, kernel_size=3, strides=1, padding='same'))\n",
    "model.add(BatchNormalization())\n",
    "model.add(Activation('relu'))\n",
    "model.add(MaxPool2D(pool_size=2, strides=2))"
   ]
  },
  {
   "cell_type": "code",
   "execution_count": 9,
   "metadata": {},
   "outputs": [],
   "source": [
    "model.add(Conv2D(filters=128, kernel_size=1, strides=1, padding='same'))\n",
    "model.add(BatchNormalization())\n",
    "model.add(Activation('relu'))\n",
    "model.add(Conv2D(filters=256, kernel_size=3, strides=1, padding='same'))\n",
    "model.add(BatchNormalization())\n",
    "model.add(Activation('relu'))\n",
    "model.add(MaxPool2D(pool_size=2, strides=2))"
   ]
  },
  {
   "cell_type": "code",
   "execution_count": 10,
   "metadata": {},
   "outputs": [],
   "source": [
    "model.add(Conv2D(filters=128, kernel_size=1, strides=1, padding='same'))\n",
    "model.add(BatchNormalization())\n",
    "model.add(Activation('relu'))\n",
    "model.add(Conv2D(filters=256, kernel_size=3, strides=1, padding='same'))\n",
    "model.add(BatchNormalization())\n",
    "model.add(Activation('relu'))\n",
    "model.add(MaxPool2D(pool_size=2, strides=2))"
   ]
  },
  {
   "cell_type": "code",
   "execution_count": 11,
   "metadata": {},
   "outputs": [],
   "source": [
    "model.add(AveragePooling2D(strides=2))"
   ]
  },
  {
   "cell_type": "code",
   "execution_count": 12,
   "metadata": {},
   "outputs": [
    {
     "name": "stdout",
     "output_type": "stream",
     "text": [
      "_________________________________________________________________\n",
      "Layer (type)                 Output Shape              Param #   \n",
      "=================================================================\n",
      "model_1 (Model)              (None, 37, 50, 512)       7635264   \n",
      "_________________________________________________________________\n",
      "conv2d_1 (Conv2D)            (None, 37, 50, 1024)      4719616   \n",
      "_________________________________________________________________\n",
      "batch_normalization_1 (Batch (None, 37, 50, 1024)      4096      \n",
      "_________________________________________________________________\n",
      "activation_1 (Activation)    (None, 37, 50, 1024)      0         \n",
      "_________________________________________________________________\n",
      "conv2d_2 (Conv2D)            (None, 37, 50, 1024)      1049600   \n",
      "_________________________________________________________________\n",
      "batch_normalization_2 (Batch (None, 37, 50, 1024)      4096      \n",
      "_________________________________________________________________\n",
      "activation_2 (Activation)    (None, 37, 50, 1024)      0         \n",
      "_________________________________________________________________\n",
      "max_pooling2d_1 (MaxPooling2 (None, 18, 25, 1024)      0         \n",
      "_________________________________________________________________\n",
      "conv2d_3 (Conv2D)            (None, 18, 25, 256)       262400    \n",
      "_________________________________________________________________\n",
      "batch_normalization_3 (Batch (None, 18, 25, 256)       1024      \n",
      "_________________________________________________________________\n",
      "activation_3 (Activation)    (None, 18, 25, 256)       0         \n",
      "_________________________________________________________________\n",
      "conv2d_4 (Conv2D)            (None, 18, 25, 512)       1180160   \n",
      "_________________________________________________________________\n",
      "batch_normalization_4 (Batch (None, 18, 25, 512)       2048      \n",
      "_________________________________________________________________\n",
      "activation_4 (Activation)    (None, 18, 25, 512)       0         \n",
      "_________________________________________________________________\n",
      "max_pooling2d_2 (MaxPooling2 (None, 9, 12, 512)        0         \n",
      "_________________________________________________________________\n",
      "conv2d_5 (Conv2D)            (None, 9, 12, 128)        65664     \n",
      "_________________________________________________________________\n",
      "batch_normalization_5 (Batch (None, 9, 12, 128)        512       \n",
      "_________________________________________________________________\n",
      "activation_5 (Activation)    (None, 9, 12, 128)        0         \n",
      "_________________________________________________________________\n",
      "conv2d_6 (Conv2D)            (None, 9, 12, 256)        295168    \n",
      "_________________________________________________________________\n",
      "batch_normalization_6 (Batch (None, 9, 12, 256)        1024      \n",
      "_________________________________________________________________\n",
      "activation_6 (Activation)    (None, 9, 12, 256)        0         \n",
      "_________________________________________________________________\n",
      "max_pooling2d_3 (MaxPooling2 (None, 4, 6, 256)         0         \n",
      "_________________________________________________________________\n",
      "conv2d_7 (Conv2D)            (None, 4, 6, 128)         32896     \n",
      "_________________________________________________________________\n",
      "batch_normalization_7 (Batch (None, 4, 6, 128)         512       \n",
      "_________________________________________________________________\n",
      "activation_7 (Activation)    (None, 4, 6, 128)         0         \n",
      "_________________________________________________________________\n",
      "conv2d_8 (Conv2D)            (None, 4, 6, 256)         295168    \n",
      "_________________________________________________________________\n",
      "batch_normalization_8 (Batch (None, 4, 6, 256)         1024      \n",
      "_________________________________________________________________\n",
      "activation_8 (Activation)    (None, 4, 6, 256)         0         \n",
      "_________________________________________________________________\n",
      "max_pooling2d_4 (MaxPooling2 (None, 2, 3, 256)         0         \n",
      "_________________________________________________________________\n",
      "average_pooling2d_1 (Average (None, 1, 1, 256)         0         \n",
      "=================================================================\n",
      "Total params: 15,550,272\n",
      "Trainable params: 7,907,840\n",
      "Non-trainable params: 7,642,432\n",
      "_________________________________________________________________\n"
     ]
    }
   ],
   "source": [
    "model.summary()"
   ]
  },
  {
   "cell_type": "code",
   "execution_count": 13,
   "metadata": {},
   "outputs": [],
   "source": [
    "s0 = Sequential()\n",
    "s0.add(model.get_layer(index=13))\n",
    "s0.add(Conv2D(filters=5, kernel_size=3, strides=1, padding='same'))"
   ]
  },
  {
   "cell_type": "code",
   "execution_count": 14,
   "metadata": {},
   "outputs": [],
   "source": [
    "s1 = Sequential()\n",
    "s1.add(model.get_layer(index=19))\n",
    "s1.add(Conv2D(filters=5, kernel_size=3, strides=1, padding='same'))"
   ]
  },
  {
   "cell_type": "code",
   "execution_count": 15,
   "metadata": {},
   "outputs": [],
   "source": [
    "s2 = Sequential()\n",
    "s2.add(model.get_layer(index=26))\n",
    "s2.add(Conv2D(filters=5, kernel_size=3, strides=1, padding='same'))"
   ]
  },
  {
   "cell_type": "code",
   "execution_count": 16,
   "metadata": {},
   "outputs": [],
   "source": [
    "s3 = Sequential()\n",
    "s3.add(model.get_layer(index=33))\n",
    "s3.add(Conv2D(filters=5, kernel_size=3, strides=1, padding='same'))"
   ]
  },
  {
   "cell_type": "code",
   "execution_count": 17,
   "metadata": {},
   "outputs": [],
   "source": [
    "s4 = Sequential()\n",
    "s4.add(model.get_layer(index=40))\n",
    "s4.add(Conv2D(filters=5, kernel_size=3, strides=1, padding='same'))"
   ]
  },
  {
   "cell_type": "code",
   "execution_count": 18,
   "metadata": {},
   "outputs": [],
   "source": [
    "s5 = Sequential()\n",
    "s5.add(model.get_layer(index=42))\n",
    "s5.add(Conv2D(filters=5, kernel_size=3, strides=1, padding='same'))"
   ]
  },
  {
   "cell_type": "code",
   "execution_count": 22,
   "metadata": {},
   "outputs": [],
   "source": [
    "def NMS_one():\n",
    "#     NMS([s0, s1, s2, s3, s4, s5])\n",
    "    pass"
   ]
  },
  {
   "cell_type": "code",
   "execution_count": 23,
   "metadata": {},
   "outputs": [],
   "source": [
    "def NMS_two():\n",
    "#     NMS([s0, s1, s2, s3, s4, s5])\n",
    "    pass"
   ]
  }
 ],
 "metadata": {
  "kernelspec": {
   "display_name": "Python 3",
   "language": "python",
   "name": "python3"
  },
  "language_info": {
   "codemirror_mode": {
    "name": "ipython",
    "version": 3
   },
   "file_extension": ".py",
   "mimetype": "text/x-python",
   "name": "python",
   "nbconvert_exporter": "python",
   "pygments_lexer": "ipython3",
   "version": "3.5.2"
  }
 },
 "nbformat": 4,
 "nbformat_minor": 2
}
