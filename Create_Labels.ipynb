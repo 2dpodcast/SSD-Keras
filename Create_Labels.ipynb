{
 "cells": [
  {
   "cell_type": "code",
   "execution_count": 2,
   "metadata": {},
   "outputs": [],
   "source": [
    "import glob\n",
    "from bs4 import BeautifulSoup\n",
    "import numpy as np\n",
    "\n",
    "annotations = []\n",
    "\n",
    "imgs = sorted(glob.glob(\"JPEGImages/*.jpg\"))"
   ]
  },
  {
   "cell_type": "code",
   "execution_count": 1,
   "metadata": {},
   "outputs": [],
   "source": [
    "final_img = []"
   ]
  },
  {
   "cell_type": "code",
   "execution_count": 3,
   "metadata": {},
   "outputs": [],
   "source": [
    "def create_labels():\n",
    "    labels = []\n",
    "    for i in imgs:\n",
    "        labels.append(create_bbox(\"Annotations/\" + i[11:-3] + \"xml\"))\n",
    "    return np.array(labels)"
   ]
  },
  {
   "cell_type": "code",
   "execution_count": 4,
   "metadata": {},
   "outputs": [],
   "source": [
    "def create_bbox(filen):\n",
    "    file = open(filen)\n",
    "    objs = BeautifulSoup(file, \"lxml\").find_all(\"object\")\n",
    "    BBOX = []\n",
    "    for obj in objs:\n",
    "        if obj.find(\"name\").string == \"person\":\n",
    "            final_img.append(\"JPEGImages/\" + filen[13:-3] + \"jpg\")\n",
    "            bnd = obj.find(\"bndbox\")\n",
    "            BBOX.append([bnd.find(\"xmin\").string, bnd.find(\"ymin\").string, bnd.find(\"xmax\").string, bnd.find(\"ymax\").string])\n",
    "    return np.array(BBOX).astype(float)"
   ]
  },
  {
   "cell_type": "code",
   "execution_count": 5,
   "metadata": {},
   "outputs": [],
   "source": [
    "x = create_labels()"
   ]
  },
  {
   "cell_type": "code",
   "execution_count": 22,
   "metadata": {},
   "outputs": [],
   "source": [
    "y = [np.append(arr=np.ones(1), values=i) for i in x if len(i) > 0]"
   ]
  },
  {
   "cell_type": "code",
   "execution_count": 23,
   "metadata": {},
   "outputs": [],
   "source": [
    "np.save(\"labels\", y)"
   ]
  },
  {
   "cell_type": "code",
   "execution_count": 19,
   "metadata": {},
   "outputs": [],
   "source": [
    "np.save(\"imgs\", np.array(sorted(list(set(final_img)))))"
   ]
  },
  {
   "cell_type": "code",
   "execution_count": 21,
   "metadata": {},
   "outputs": [
    {
     "data": {
      "text/plain": [
       "array([  1., 174., 101., 349., 351.])"
      ]
     },
     "execution_count": 21,
     "metadata": {},
     "output_type": "execute_result"
    }
   ],
   "source": []
  },
  {
   "cell_type": "code",
   "execution_count": null,
   "metadata": {},
   "outputs": [],
   "source": []
  }
 ],
 "metadata": {
  "kernelspec": {
   "display_name": "Python 3",
   "language": "python",
   "name": "python3"
  },
  "language_info": {
   "codemirror_mode": {
    "name": "ipython",
    "version": 3
   },
   "file_extension": ".py",
   "mimetype": "text/x-python",
   "name": "python",
   "nbconvert_exporter": "python",
   "pygments_lexer": "ipython3",
   "version": "3.5.2"
  }
 },
 "nbformat": 4,
 "nbformat_minor": 2
}
