{
 "cells": [
  {
   "cell_type": "code",
   "execution_count": 1,
   "metadata": {},
   "outputs": [],
   "source": [
    "import glob\n",
    "from bs4 import BeautifulSoup\n",
    "import numpy as np\n",
    "\n",
    "annotations = []\n",
    "\n",
    "imgs = sorted(glob.glob(\"JPEGImages/*.jpg\"))"
   ]
  },
  {
   "cell_type": "code",
   "execution_count": 44,
   "metadata": {},
   "outputs": [],
   "source": [
    "final_img = []"
   ]
  },
  {
   "cell_type": "code",
   "execution_count": 45,
   "metadata": {},
   "outputs": [],
   "source": [
    "def create_labels():\n",
    "    labels = []\n",
    "    for i in imgs:\n",
    "        labels.append(create_bbox(\"Annotations/\" + i[11:-3] + \"xml\"))\n",
    "    return np.array(labels)"
   ]
  },
  {
   "cell_type": "code",
   "execution_count": 46,
   "metadata": {},
   "outputs": [],
   "source": [
    "def create_bbox(filen):\n",
    "    file = open(filen)\n",
    "    size = BeautifulSoup(file, \"lxml\").find_all(\"size\")\n",
    "    BBOX = []\n",
    "    for j in size:\n",
    "        if j.find(\"width\").string == \"500\" and j.find(\"height\").string == \"375\":\n",
    "            file.seek(0)\n",
    "            objs = BeautifulSoup(file, \"lxml\").find_all(\"object\")\n",
    "            for obj in objs:\n",
    "                if obj.find(\"name\").string == \"person\":\n",
    "                    final_img.append(\"JPEGImages/\" + filen[12:-3] + \"jpg\")\n",
    "                    bnd = obj.find(\"bndbox\")\n",
    "                    h = [bnd.find(\"xmin\").string, bnd.find(\"ymin\").string, bnd.find(\"xmax\").string, bnd.find(\"ymax\").string]\n",
    "                    if len(h) > 0:\n",
    "                        BBOX.append(h)\n",
    "    return np.array(BBOX).astype(float)"
   ]
  },
  {
   "cell_type": "code",
   "execution_count": 59,
   "metadata": {},
   "outputs": [],
   "source": [
    "x = create_labels()"
   ]
  },
  {
   "cell_type": "code",
   "execution_count": 60,
   "metadata": {},
   "outputs": [],
   "source": [
    "y = [np.append(arr=np.ones(1), values=i) for i in x if len(i) > 0]"
   ]
  },
  {
   "cell_type": "code",
   "execution_count": 61,
   "metadata": {},
   "outputs": [],
   "source": [
    "np.save(\"labels\", y)"
   ]
  },
  {
   "cell_type": "code",
   "execution_count": 62,
   "metadata": {},
   "outputs": [],
   "source": [
    "np.save(\"imgs\", np.array(sorted(list(set(final_img)))))"
   ]
  },
  {
   "cell_type": "code",
   "execution_count": null,
   "metadata": {},
   "outputs": [],
   "source": []
  },
  {
   "cell_type": "code",
   "execution_count": null,
   "metadata": {},
   "outputs": [],
   "source": []
  },
  {
   "cell_type": "code",
   "execution_count": null,
   "metadata": {},
   "outputs": [],
   "source": []
  }
 ],
 "metadata": {
  "kernelspec": {
   "display_name": "Python 3",
   "language": "python",
   "name": "python3"
  },
  "language_info": {
   "codemirror_mode": {
    "name": "ipython",
    "version": 3
   },
   "file_extension": ".py",
   "mimetype": "text/x-python",
   "name": "python",
   "nbconvert_exporter": "python",
   "pygments_lexer": "ipython3",
   "version": "3.5.2"
  }
 },
 "nbformat": 4,
 "nbformat_minor": 2
}
