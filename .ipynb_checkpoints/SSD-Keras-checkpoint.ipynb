{
 "cells": [
  {
   "cell_type": "code",
   "execution_count": 43,
   "metadata": {},
   "outputs": [],
   "source": [
    "from keras_vggface.vggface import VGGFace\n",
    "from keras.models import Model, Sequential\n",
    "from keras.layers import Conv2D, BatchNormalization, Activation, MaxPool2D, AveragePooling2D"
   ]
  },
  {
   "cell_type": "code",
   "execution_count": 16,
   "metadata": {},
   "outputs": [],
   "source": [
    "vgg = VGGFace(include_top=False, input_shape=(300, 400, 3))"
   ]
  },
  {
   "cell_type": "code",
   "execution_count": 17,
   "metadata": {},
   "outputs": [],
   "source": [
    "for layer in vgg.layers:\n",
    "    layer.trainable = False"
   ]
  },
  {
   "cell_type": "code",
   "execution_count": 18,
   "metadata": {},
   "outputs": [
    {
     "name": "stdout",
     "output_type": "stream",
     "text": [
      "_________________________________________________________________\n",
      "Layer (type)                 Output Shape              Param #   \n",
      "=================================================================\n",
      "input_3 (InputLayer)         (None, 300, 400, 3)       0         \n",
      "_________________________________________________________________\n",
      "conv1_1 (Conv2D)             (None, 300, 400, 64)      1792      \n",
      "_________________________________________________________________\n",
      "conv1_2 (Conv2D)             (None, 300, 400, 64)      36928     \n",
      "_________________________________________________________________\n",
      "pool1 (MaxPooling2D)         (None, 150, 200, 64)      0         \n",
      "_________________________________________________________________\n",
      "conv2_1 (Conv2D)             (None, 150, 200, 128)     73856     \n",
      "_________________________________________________________________\n",
      "conv2_2 (Conv2D)             (None, 150, 200, 128)     147584    \n",
      "_________________________________________________________________\n",
      "pool2 (MaxPooling2D)         (None, 75, 100, 128)      0         \n",
      "_________________________________________________________________\n",
      "conv3_1 (Conv2D)             (None, 75, 100, 256)      295168    \n",
      "_________________________________________________________________\n",
      "conv3_2 (Conv2D)             (None, 75, 100, 256)      590080    \n",
      "_________________________________________________________________\n",
      "conv3_3 (Conv2D)             (None, 75, 100, 256)      590080    \n",
      "_________________________________________________________________\n",
      "pool3 (MaxPooling2D)         (None, 37, 50, 256)       0         \n",
      "_________________________________________________________________\n",
      "conv4_1 (Conv2D)             (None, 37, 50, 512)       1180160   \n",
      "_________________________________________________________________\n",
      "conv4_2 (Conv2D)             (None, 37, 50, 512)       2359808   \n",
      "_________________________________________________________________\n",
      "conv4_3 (Conv2D)             (None, 37, 50, 512)       2359808   \n",
      "_________________________________________________________________\n",
      "pool4 (MaxPooling2D)         (None, 18, 25, 512)       0         \n",
      "_________________________________________________________________\n",
      "conv5_1 (Conv2D)             (None, 18, 25, 512)       2359808   \n",
      "_________________________________________________________________\n",
      "conv5_2 (Conv2D)             (None, 18, 25, 512)       2359808   \n",
      "_________________________________________________________________\n",
      "conv5_3 (Conv2D)             (None, 18, 25, 512)       2359808   \n",
      "_________________________________________________________________\n",
      "pool5 (MaxPooling2D)         (None, 9, 12, 512)        0         \n",
      "=================================================================\n",
      "Total params: 14,714,688\n",
      "Trainable params: 0\n",
      "Non-trainable params: 14,714,688\n",
      "_________________________________________________________________\n"
     ]
    }
   ],
   "source": [
    "vgg.summary()"
   ]
  },
  {
   "cell_type": "code",
   "execution_count": 19,
   "metadata": {},
   "outputs": [],
   "source": [
    "ssd = Model(inputs = vgg.inputs, outputs = vgg.get_layer(index=13).output)"
   ]
  },
  {
   "cell_type": "code",
   "execution_count": 37,
   "metadata": {},
   "outputs": [],
   "source": [
    "s0 = Sequential()\n",
    "s0.add(ssd)\n",
    "s0.add(Conv2D(filters=1024, kernel_size=3, strides=1, padding='same'))\n",
    "s0.add(BatchNormalization())\n",
    "s0.add(Activation('relu'))\n",
    "s0.add(Conv2D(filters=1024, kernel_size=1, strides=1, padding='same'))\n",
    "s0.add(BatchNormalization())\n",
    "s0.add(Activation('relu'))\n",
    "s0.add(MaxPool2D(pool_size=2, strides=2))"
   ]
  },
  {
   "cell_type": "code",
   "execution_count": 44,
   "metadata": {},
   "outputs": [],
   "source": [
    "s1 = Sequential()\n",
    "s1.add(s0)\n",
    "s1.add(Conv2D(filters=256, kernel_size=1, strides=1, padding='same'))\n",
    "s1.add(BatchNormalization())\n",
    "s1.add(Activation('relu'))\n",
    "s1.add(Conv2D(filters=512, kernel_size=3, strides=1, padding='same'))\n",
    "s1.add(BatchNormalization())\n",
    "s1.add(Activation('relu'))\n",
    "s1.add(MaxPool2D(pool_size=2, strides=2))"
   ]
  },
  {
   "cell_type": "code",
   "execution_count": 45,
   "metadata": {},
   "outputs": [],
   "source": [
    "s2 = Sequential()\n",
    "s2.add(s1)\n",
    "s2.add(Conv2D(filters=128, kernel_size=1, strides=1, padding='same'))\n",
    "s2.add(BatchNormalization())\n",
    "s2.add(Activation('relu'))\n",
    "s2.add(Conv2D(filters=256, kernel_size=3, strides=1, padding='same'))\n",
    "s2.add(BatchNormalization())\n",
    "s2.add(Activation('relu'))\n",
    "s2.add(MaxPool2D(pool_size=2, strides=2))"
   ]
  },
  {
   "cell_type": "code",
   "execution_count": 46,
   "metadata": {},
   "outputs": [],
   "source": [
    "s3 = Sequential()\n",
    "s3.add(s2)\n",
    "s3.add(Conv2D(filters=128, kernel_size=1, strides=1, padding='same'))\n",
    "s3.add(BatchNormalization())\n",
    "s3.add(Activation('relu'))\n",
    "s3.add(Conv2D(filters=256, kernel_size=3, strides=1, padding='same'))\n",
    "s3.add(BatchNormalization())\n",
    "s3.add(Activation('relu'))\n",
    "s3.add(MaxPool2D(pool_size=2, strides=2))"
   ]
  },
  {
   "cell_type": "code",
   "execution_count": 47,
   "metadata": {},
   "outputs": [],
   "source": [
    "s4 = Sequential()\n",
    "s4.add(s3)\n",
    "s4.add(AveragePooling2D(strides=2))"
   ]
  },
  {
   "cell_type": "code",
   "execution_count": 48,
   "metadata": {},
   "outputs": [
    {
     "name": "stdout",
     "output_type": "stream",
     "text": [
      "_________________________________________________________________\n",
      "Layer (type)                 Output Shape              Param #   \n",
      "=================================================================\n",
      "sequential_14 (Sequential)   (None, 2, 3, 256)         15550272  \n",
      "_________________________________________________________________\n",
      "average_pooling2d_1 (Average (None, 1, 1, 256)         0         \n",
      "=================================================================\n",
      "Total params: 15,550,272\n",
      "Trainable params: 7,907,840\n",
      "Non-trainable params: 7,642,432\n",
      "_________________________________________________________________\n"
     ]
    }
   ],
   "source": [
    "s4.summary()"
   ]
  },
  {
   "cell_type": "code",
   "execution_count": null,
   "metadata": {},
   "outputs": [],
   "source": []
  }
 ],
 "metadata": {
  "kernelspec": {
   "display_name": "Python 3",
   "language": "python",
   "name": "python3"
  },
  "language_info": {
   "codemirror_mode": {
    "name": "ipython",
    "version": 3
   },
   "file_extension": ".py",
   "mimetype": "text/x-python",
   "name": "python",
   "nbconvert_exporter": "python",
   "pygments_lexer": "ipython3",
   "version": "3.5.2"
  }
 },
 "nbformat": 4,
 "nbformat_minor": 2
}
